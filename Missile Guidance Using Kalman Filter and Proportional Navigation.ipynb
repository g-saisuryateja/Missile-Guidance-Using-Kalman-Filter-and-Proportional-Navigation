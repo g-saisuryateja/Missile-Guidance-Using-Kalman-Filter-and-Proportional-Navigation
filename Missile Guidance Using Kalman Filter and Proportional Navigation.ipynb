{
 "cells": [
  {
   "cell_type": "code",
   "execution_count": 11,
   "id": "latin-schema",
   "metadata": {},
   "outputs": [],
   "source": [
    "import numpy as np\n",
    "from matplotlib import pyplot as plt\n",
    "import pandas as pd"
   ]
  },
  {
   "cell_type": "code",
   "execution_count": 26,
   "id": "incoming-coach",
   "metadata": {},
   "outputs": [],
   "source": [
    "#Propotional Navigation\n",
    "N = 3\n",
    "def update_accel(target,missile,Ngain):    \n",
    "    R = (target[0:3,0] - missile[0:3,0]).reshape((3,1))\n",
    "    Vr = (target[3:,0] - missile[3:,0]).reshape((3,1))\n",
    "    Omega = np.cross(R,Vr,axis = 0)/(R.T@R)\n",
    "    a = N*np.cross(Vr,Omega,axis=0)\n",
    "    return a"
   ]
  },
  {
   "cell_type": "code",
   "execution_count": 27,
   "id": "prostate-wholesale",
   "metadata": {},
   "outputs": [],
   "source": [
    "pi = np.pi\n",
    "dt = .1    \n",
    "\n",
    "\n",
    "pos_var0 = 500 \n",
    "max_plane_vel = 1553*1609.34/3600     \n",
    "plane_vel = 840*1609.34/3600        \n",
    "\n",
    "# initial true state of plane\n",
    "plane_true_state = np.array([[10000, 0, 10000, 0, plane_vel, 0]]).T\n",
    "a_plane = np.zeros((3,1))\n",
    "\n",
    "# 99% sure the plane is is within the max speed\n",
    "# abs(max_speed) is within 3 std \n",
    "vel_var0 = (max_plane_vel/3)**2\n",
    "\n",
    "# 99% sure accel due to windspeed is within 20 m/s^2\n",
    "accel_var = (20/3)**2  \n",
    "\n",
    "#noise in sensor\n",
    "sensor_var = 25  \n"
   ]
  },
  {
   "cell_type": "code",
   "execution_count": 28,
   "id": "tested-jersey",
   "metadata": {},
   "outputs": [],
   "source": [
    "# define params and initial conditions for missile\n",
    "missile_range = 70000 \n",
    "a_missile = np.zeros((3,1))\n",
    "missile_range = 70000 \n",
    "missile_vel = 2.8*343\n",
    "\n",
    "#States x,y,x, vx, vy, vz\n",
    "missile_state = np.array([[0,0,0,missile_vel*np.sin(pi/4)*np.cos(pi/4),\n",
    "                     missile_vel*np.sin(pi/4)*np.sin(pi/4),\n",
    "                     missile_vel*np.cos(pi/4),]]).T\n",
    "\n"
   ]
  },
  {
   "cell_type": "code",
   "execution_count": 29,
   "id": "ranking-marathon",
   "metadata": {},
   "outputs": [],
   "source": [
    "#setting up matrices for prediction and update steps\n",
    "pi = np.pi\n",
    "dt = .1    #10hz\n",
    "#State Transition Function\n",
    "A = np.array([[1, 0, 0, dt, 0 ,0],\n",
    "              [0, 1, 0, 0, dt, 0],\n",
    "              [0, 0, 1, 0, 0, dt],\n",
    "              [0, 0, 0, 1, 0 ,0 ], \n",
    "              [0, 0, 0, 0, 1 , 0],\n",
    "              [0, 0, 0, 0, 0,1]])\n",
    "B = np.array([[.5*dt**2, 0, 0],\n",
    "              [0, .5*dt**2, 0],\n",
    "              [0, 0, .5*dt**2],\n",
    "              [dt, 0, 0], \n",
    "              [0, dt, 0],\n",
    "              [0, 0, dt]])\n",
    "#State Covariance\n",
    "P = np.array([[pos_var0, 0,0,0,0,0],\n",
    "              [0, pos_var0,0,0,0,0],\n",
    "              [0, 0,pos_var0,0,0,0],\n",
    "              [0, 0,0,vel_var0,0,0],\n",
    "              [0, 0,0,0,vel_var0,0],\n",
    "              [0, 0,0,0,0,vel_var0],])\n",
    "\n",
    "#Process Covariance\n",
    "Q = np.array([[.25*dt**4, 0, 0, .5*dt**3, 0 ,0],\n",
    "              [0, .25*dt**4, 0, 0, .5*dt**3, 0],\n",
    "              [0, 0, .25*dt**4, 0, 0, .5*dt**3],\n",
    "              [.5*dt**3, 0, 0, dt**2,0 , 0],\n",
    "              [0, .5*dt**3, 0, 0, dt**2, 0],\n",
    "              [0, 0, .5*dt**3, 0, 0, dt**2]])*accel_var\n",
    "\n",
    "#Sensor Noise Covariance\n",
    "#variance in measured xpos, ypos, zpos\n",
    "R = np.eye(3)*sensor_var    \n",
    "\n",
    "# Measurement Function\n",
    "H = np.array([[1, 0, 0, 0, 0, 0],\n",
    "              [0, 1, 0, 0, 0, 0],\n",
    "              [0, 0, 1, 0, 0, 0]])\n",
    "I = np.eye(6)"
   ]
  },
  {
   "cell_type": "code",
   "execution_count": 30,
   "id": "piano-bench",
   "metadata": {},
   "outputs": [],
   "source": [
    "# define kalman filter function to be used at each iteration\n",
    "def kfilter(x, A, Q, P, H, R, I, z):\n",
    "    # PREDICT STEP\n",
    "    #predict the state and the process covariance matrix\n",
    "    \n",
    "    x_pred = A @ x\n",
    "    P_pred = A @ P @ A.T + Q\n",
    "    \n",
    "    # UPDATE STEP\n",
    "    #calcultate kalman gain and update the process covariance matrix\n",
    "    \n",
    "    S = (H @ P_pred @ H.T) + R\n",
    "    K = P_pred @ H.T @ np.linalg.inv(S)\n",
    "    #calculate residual\n",
    "    y = z - (H @ x_pred)\n",
    "    # update state using Kalman gain and residual\n",
    "    x = x_pred + (K @ y)\n",
    "    #update Process Covar matrix\n",
    "    P = (I - K @ H) @ P_pred\n",
    "    return x, P"
   ]
  },
  {
   "cell_type": "code",
   "execution_count": 31,
   "id": "efficient-rapid",
   "metadata": {},
   "outputs": [],
   "source": [
    "# define function to update true position of plane and of missile\n",
    "def update_pos(state,u=np.zeros((3,1)),A=A,B=B):\n",
    "    state  = A @ state + B @ u\n",
    "    return state\n",
    "\n",
    "# simulate measurement by adding noise to true position, leave vel untouched\n",
    "def measure_pos(plane_true, var): \n",
    "    noise = np.append(np.random.randn(3)*var,[0 ,0,0]).reshape(6,1)\n",
    "    return noise + plane_true"
   ]
  },
  {
   "cell_type": "code",
   "execution_count": 32,
   "id": "useful-april",
   "metadata": {},
   "outputs": [],
   "source": [
    "# state estimates\n",
    "\n",
    "\n",
    "plane_true_record = np.zeros((2,6))\n",
    "plane_measure_record = np.zeros((2,6))\n",
    "\n",
    "#record 1st entry\n",
    "plane_true_record[0,None,:] = plane_true_state.T\n",
    "plane_measure_record[0,None,:] = measure_pos(plane_true_state, sensor_var).T\n",
    "\n",
    "#next epoch\n",
    "plane_true_state = update_pos(plane_true_state,a_plane,A,B)\n",
    "\n",
    "#record second entries\n",
    "plane_true_record[1,None,:] = plane_true_state.T\n",
    "plane_measure_record[1,None,:] = measure_pos(plane_true_state, sensor_var).T\n",
    "\n",
    "#calculating x0 \n",
    "est_pos = plane_measure_record[1,None,0:3]\n",
    "est_vel = (plane_measure_record[1,None,0:3]-plane_measure_record[0,None,0:3])/dt\n",
    "\n",
    "#initial estimate\n",
    "x0_plane = np.append(est_pos,est_vel).reshape(6,1) #col vector form for Kalman Filter"
   ]
  },
  {
   "cell_type": "code",
   "execution_count": 33,
   "id": "turned-omaha",
   "metadata": {},
   "outputs": [],
   "source": [
    "# kalman filter loop\n",
    "\n",
    "n =180\n",
    "x = x0_plane\n",
    "#threshold for kill radius of missile\n",
    "kill_range = 20 \n",
    "x_states = np.empty((0,6))\n",
    "Ps       = np.empty((0,6))\n",
    "zs       = np.empty((0,3))\n",
    "missile_state_record = missile_state.T\n",
    "for i in range(n):\n",
    "    #evolve true states\n",
    "    plane_true_state = update_pos(plane_true_state,a_plane,A,B)\n",
    "    missile_state     = update_pos(missile_state,a_missile,A,B)\n",
    "    #measure plane\n",
    "    z = measure_pos(plane_true_state,sensor_var)[0:3]\n",
    "    #estimate plane pos with kalman\n",
    "    x, P = kfilter(x, A, Q, P, H, R, I, z)\n",
    "    \n",
    "    #update missile accel with new estimated plane pos \n",
    "    a_missile = update_accel(x,missile_state,Ngain)\n",
    "    \n",
    "    #records for plotting\n",
    "    x_states = np.vstack((x_states,x.T))\n",
    "    plane_true_record    =  np.vstack((plane_true_record,plane_true_state.T))\n",
    "    missile_state_record =  np.vstack((missile_state_record,missile_state.T))\n",
    "    zs = np.vstack((zs, z.T))\n",
    "    #only interested in keeping the variances\n",
    "    Ps = np.vstack((Ps,np.diag(P)))\n",
    "    dist = np.linalg.norm((missile_state-plane_true_state)[0:3])\n",
    "    \n",
    "    if dist <kill_range:\n",
    "        print(\"Boom\")\n",
    "        break"
   ]
  },
  {
   "cell_type": "code",
   "execution_count": 34,
   "id": "thorough-precipitation",
   "metadata": {},
   "outputs": [],
   "source": [
    "#Align the states in time: \n",
    "#plane_true_record 1st two states were for initial estimates, throw 0,1 away\n",
    "# first missile state at origin enters loops and should start at first evolution, throw 0 away\n",
    "#plane kalman estimates begin as loop begins, no correction needed\n",
    "\n",
    "plane_true_record = np.delete(plane_true_record,[0,1],0)\n",
    "missile_state_record = np.delete(missile_state_record,0,0)"
   ]
  },
  {
   "cell_type": "code",
   "execution_count": 35,
   "id": "underlying-husband",
   "metadata": {},
   "outputs": [],
   "source": [
    "time = np.arange(len(x_states))*dt"
   ]
  },
  {
   "cell_type": "code",
   "execution_count": 36,
   "id": "chinese-arena",
   "metadata": {},
   "outputs": [
    {
     "data": {
      "text/plain": [
       "[<matplotlib.lines.Line2D at 0x2bbc6300c10>]"
      ]
     },
     "execution_count": 36,
     "metadata": {},
     "output_type": "execute_result"
    },
    {
     "data": {
      "image/png": "[encoded data removed]",
      "text/plain": [
       "<Figure size 1008x432 with 3 Axes>"
      ]
     },
     "metadata": {
      "needs_background": "light"
     },
     "output_type": "display_data"
    }
   ],
   "source": [
    "# Process Variances across time\n",
    "fig = plt.figure(figsize = (14,6))\n",
    "ax1 = fig.add_subplot(131)\n",
    "plt.xlabel(\"Time (s)\")\n",
    "plt.ylabel(\"variance (m^2)\")\n",
    "plt.title(\"Variance in X position Vs. Time\")\n",
    "plt.xlim([0, 4])\n",
    "ax1.plot(time, Ps[:,0])\n",
    "\n",
    "ax2 = fig.add_subplot(132)\n",
    "plt.xlabel(\"Time (s)\")\n",
    "plt.ylabel(\"variance (m^2)\")\n",
    "plt.title(\"Variance in Y position Vs. Time\")\n",
    "plt.xlim([0, 4])\n",
    "ax2.plot(time, Ps[:,1])\n",
    "\n",
    "ax3 = fig.add_subplot(133)\n",
    "plt.xlabel(\"Time (s)\")\n",
    "plt.ylabel(\"variance (m^2)\")\n",
    "plt.title(\"Variance in Z position Vs. Time\")\n",
    "plt.xlim([0, 4])\n",
    "ax3.plot(time, Ps[:,2])"
   ]
  },
  {
   "cell_type": "code",
   "execution_count": null,
   "id": "committed-applicant",
   "metadata": {},
   "outputs": [],
   "source": []
  },
  {
   "cell_type": "code",
   "execution_count": null,
   "id": "timely-audio",
   "metadata": {},
   "outputs": [],
   "source": []
  }
 ],
 "metadata": {
  "kernelspec": {
   "display_name": "general",
   "language": "python",
   "name": "general"
  },
  "language_info": {
   "codemirror_mode": {
    "name": "ipython",
    "version": 3
   },
   "file_extension": ".py",
   "mimetype": "text/x-python",
   "name": "python",
   "nbconvert_exporter": "python",
   "pygments_lexer": "ipython3",
   "version": "3.8.5"
  }
 },
 "nbformat": 4,
 "nbformat_minor": 5
}
